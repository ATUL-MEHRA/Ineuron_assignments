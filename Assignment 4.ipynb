{
 "cells": [
  {
   "cell_type": "markdown",
   "metadata": {},
   "source": [
    "1.1 Write a Python Program(with class concepts) to find the area of the triangle using the below  formula. \n",
    "area = (s*(s-a)*(s-b)*(s-c)) ** 0.5 \n",
    "Function to take the length of the sides of triangle from user should be defined in the parent  class and function to calculate the area should be defined in subclass.\n"
   ]
  },
  {
   "cell_type": "code",
   "execution_count": 63,
   "metadata": {},
   "outputs": [
    {
     "name": "stdout",
     "output_type": "stream",
     "text": [
      "Enter the 1st side of the triangle 5\n",
      "Enter the 2nd side of the triangle 6\n",
      "Enter the 3rd side of the triangle 3\n",
      "7.483314773547883\n"
     ]
    }
   ],
   "source": [
    "class triangle:\n",
    "    def __init__(self,a,b,c):\n",
    "        self.a = float(input(\"Enter the 1st side of the triangle \"))\n",
    "        self.b = float(input(\"Enter the 2nd side of the triangle \"))\n",
    "        self.c = float(input(\"Enter the 3rd side of the triangle \"))\n",
    "\n",
    "class are(triangle):\n",
    "    def __init__(self,*args):\n",
    "        triangle.__init__(self,*args)\n",
    "    def get_area(self):\n",
    "        s = (self.a+self.b+self.c)/2\n",
    "        return (s*(s-self.a)*(s-self.b)*(s-self.c)) ** 0.5\n",
    "\n",
    "\n",
    "\n",
    "\n",
    "two = are(a,b,c)\n",
    "print(two.get_area())"
   ]
  },
  {
   "cell_type": "markdown",
   "metadata": {},
   "source": [
    "1.2 Write a function filter_long_words() that takes a list of words and an integer n and returns  the list of words that are longer than n."
   ]
  },
  {
   "cell_type": "code",
   "execution_count": 108,
   "metadata": {},
   "outputs": [
    {
     "name": "stdout",
     "output_type": "stream",
     "text": [
      "Enter a string : peter,jon,kalpana\n",
      "Enter a number: 4\n"
     ]
    },
    {
     "data": {
      "text/plain": [
       "['jon']"
      ]
     },
     "execution_count": 108,
     "metadata": {},
     "output_type": "execute_result"
    }
   ],
   "source": [
    "def filter_long_words():\n",
    "    string = []\n",
    "    new = []\n",
    "    string = input(\"Enter a string : \")\n",
    "    n = int(input(\"Enter a number: \"))\n",
    "    for i in string.split(','):\n",
    "        if len(i) <= n:\n",
    "            new.append(i)\n",
    "    return new\n",
    "filter_long_words()"
   ]
  },
  {
   "cell_type": "markdown",
   "metadata": {},
   "source": [
    "2.1 Write a Python program using function concept that maps list of words into a list of integers  representing the lengths of the corresponding words. \n",
    "Hint: If a list [ ab,cde,erty] is passed on to the python function output should come as [2,3,4] Here 2,3 and 4 are the lengths of the words in the list. "
   ]
  },
  {
   "cell_type": "code",
   "execution_count": 102,
   "metadata": {},
   "outputs": [
    {
     "name": "stdout",
     "output_type": "stream",
     "text": [
      "Enter a string : ram, naam , apa\n"
     ]
    },
    {
     "data": {
      "text/plain": [
       "[3, 6, 4]"
      ]
     },
     "execution_count": 102,
     "metadata": {},
     "output_type": "execute_result"
    }
   ],
   "source": [
    "def length_words():\n",
    "    string = []\n",
    "    new = []\n",
    "    string = input(\"Enter a string : \")\n",
    "    for i in string.split(','):\n",
    "        new.append(len(i))\n",
    "    return new\n",
    "length_words()"
   ]
  },
  {
   "cell_type": "markdown",
   "metadata": {},
   "source": [
    "2.2 Write a Python function which takes a character (i.e. a string of length 1) and returns True if  it is a vowel, False otherwise. "
   ]
  },
  {
   "cell_type": "code",
   "execution_count": 107,
   "metadata": {},
   "outputs": [
    {
     "name": "stdout",
     "output_type": "stream",
     "text": [
      "Enter a english character:$\n",
      "False\n"
     ]
    }
   ],
   "source": [
    "def check_vowel():\n",
    "    string = input(\"Enter a english character:\")\n",
    "    if string in ('aeiou'):\n",
    "        print(True)\n",
    "    else:\n",
    "        print(False)\n",
    "check_vowel()"
   ]
  },
  {
   "cell_type": "code",
   "execution_count": null,
   "metadata": {},
   "outputs": [],
   "source": []
  },
  {
   "cell_type": "code",
   "execution_count": null,
   "metadata": {},
   "outputs": [],
   "source": []
  }
 ],
 "metadata": {
  "kernelspec": {
   "display_name": "Python 3",
   "language": "python",
   "name": "python3"
  },
  "language_info": {
   "codemirror_mode": {
    "name": "ipython",
    "version": 3
   },
   "file_extension": ".py",
   "mimetype": "text/x-python",
   "name": "python",
   "nbconvert_exporter": "python",
   "pygments_lexer": "ipython3",
   "version": "3.6.5"
  }
 },
 "nbformat": 4,
 "nbformat_minor": 2
}
