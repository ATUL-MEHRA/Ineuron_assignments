{
 "cells": [
  {
   "cell_type": "code",
   "execution_count": 3,
   "metadata": {},
   "outputs": [
    {
     "name": "stdout",
     "output_type": "stream",
     "text": [
      "enter no. of elements: 8\n",
      "Enter the elements of the list: 9\n",
      "Enter the elements of the list: 6\n",
      "Enter the elements of the list: 2\n",
      "Enter the elements of the list: 3\n",
      "Enter the elements of the list: 4\n",
      "Enter the elements of the list: 8\n",
      "Enter the elements of the list: 9\n",
      "Enter the elements of the list: 1\n",
      "[9, 6, 2, 3, 4, 8, 9, 1]\n"
     ]
    }
   ],
   "source": [
    "# 1. Write a program which accepts a sequence of comma-separated numbers from console  and generate a list. \n",
    "\n",
    "lst = []\n",
    "\n",
    "n = int(input(\"enter no. of elements: \"))\n",
    "for i in range(n):\n",
    "    a = int(input(\"Enter the elements of the list: \"))\n",
    "    lst.append(a)\n",
    "    \n",
    "print(lst)"
   ]
  },
  {
   "cell_type": "code",
   "execution_count": 34,
   "metadata": {},
   "outputs": [
    {
     "name": "stdout",
     "output_type": "stream",
     "text": [
      " \n",
      "*  \n",
      "* *  \n",
      "* * *  \n",
      "* * * *  \n",
      "* * * * *  \n",
      "* * * *  \n",
      "* * *  \n",
      "* *  \n",
      "*  \n",
      " \n"
     ]
    }
   ],
   "source": [
    "# 1. Create the below pattern using nested for loop in Python. \n",
    "\n",
    "for i in range(6):\n",
    "    for j in range(i):\n",
    "        print('*',end = \" \")\n",
    "    print(\" \")\n",
    "    \n",
    "for i in range(5):\n",
    "    for j in range(4,i,-1):\n",
    "        print(\"*\", end = \" \")\n",
    "    print(\" \")\n",
    "\n",
    "    \n"
   ]
  },
  {
   "cell_type": "code",
   "execution_count": null,
   "metadata": {},
   "outputs": [],
   "source": []
  }
 ],
 "metadata": {
  "kernelspec": {
   "display_name": "Python 3",
   "language": "python",
   "name": "python3"
  },
  "language_info": {
   "codemirror_mode": {
    "name": "ipython",
    "version": 3
   },
   "file_extension": ".py",
   "mimetype": "text/x-python",
   "name": "python",
   "nbconvert_exporter": "python",
   "pygments_lexer": "ipython3",
   "version": "3.6.5"
  }
 },
 "nbformat": 4,
 "nbformat_minor": 2
}
